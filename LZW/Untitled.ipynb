{
 "cells": [
  {
   "cell_type": "code",
   "execution_count": 49,
   "id": "26be383f",
   "metadata": {},
   "outputs": [],
   "source": [
    "import math\n",
    "\n",
    "dic = {\n",
    "    'a': {'id': 0, 'code': 0},\n",
    "    'b': {'id': 1, 'code': 1},\n",
    "    'c': {'id': 2, 'code': 2},\n",
    "    'd': {'id': 3, 'code': 3},\n",
    "    'e': {'id': 4, 'code': 4},\n",
    "}\n",
    "\n",
    "END = 'e'\n",
    "ID = 'id'\n",
    "CODE = 'code'\n",
    "max_symbol = 'e'\n",
    "\n",
    "word = 'abacabadabacabae'\n",
    "res = ''\n",
    "\n",
    "current = word[0]\n",
    "for i in range(1, len(word)):\n",
    "    symbol = word[i]\n",
    "    X = current\n",
    "    XY = current + symbol\n",
    "    \n",
    "    if X == END:\n",
    "        res += dic[END][CODE]\n",
    "    else:\n",
    "        if XY not in dic:\n",
    "            try:\n",
    "                l = math.ceil(math.log2(dic[max_symbol][ID] + 1))\n",
    "            except ValueError:\n",
    "                l = 0\n",
    "\n",
    "            if l < 3:\n",
    "                res += format(dic[X][ID], '03b')\n",
    "            else:\n",
    "                res += format(dic[X][ID], '0' + str(l) + 'b')\n",
    "\n",
    "            max_id = dic[max_symbol][ID] + 1\n",
    "            code = dic[X][ID]\n",
    "            dic[XY] = {ID: max_id, CODE: code}\n",
    "            max_symbol = XY\n",
    "            current = symbol\n",
    "        else:\n",
    "            current += symbol\n",
    "l = math.ceil(math.log2(dic[max_symbol][ID] + 1))\n",
    "res += format(dic[END][ID], '0' + str(l) + 'b')\n",
    "\n",
    "assert(res == '0000010000100101000000111001100001100100')\n"
   ]
  }
 ],
 "metadata": {
  "kernelspec": {
   "display_name": "Python 3 (ipykernel)",
   "language": "python",
   "name": "python3"
  },
  "language_info": {
   "codemirror_mode": {
    "name": "ipython",
    "version": 3
   },
   "file_extension": ".py",
   "mimetype": "text/x-python",
   "name": "python",
   "nbconvert_exporter": "python",
   "pygments_lexer": "ipython3",
   "version": "3.9.7"
  }
 },
 "nbformat": 4,
 "nbformat_minor": 5
}
