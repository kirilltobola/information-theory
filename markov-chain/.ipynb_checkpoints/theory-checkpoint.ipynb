{
 "cells": [
  {
   "cell_type": "markdown",
   "id": "8280c21e",
   "metadata": {},
   "source": [
    "### пример:\n",
    "![graph](graph.png)"
   ]
  },
  {
   "cell_type": "markdown",
   "id": "5be90001",
   "metadata": {},
   "source": [
    "Данный граф является сильно связным, поэтому макрковская цепь эргодическая"
   ]
  },
  {
   "cell_type": "markdown",
   "id": "dce75327",
   "metadata": {},
   "source": [
    "\n",
    "$P = \\begin{pmatrix} \n",
    "0 &0.5 &0.1 &0 &0.4 \\\\\n",
    "0 &0 &0 &1 &0 \\\\\n",
    "0.5 &0 &0 &0 &0.5 \\\\\n",
    "0.6 &0 &0 &0 &0.4 \\\\\n",
    "0.2 &0 &0 &0 &0.8 \\\\\n",
    "\\end{pmatrix} $"
   ]
  },
  {
   "cell_type": "markdown",
   "id": "017542f1",
   "metadata": {},
   "source": [
    "Распределение вероятностей стационарного режима можно найти, решив систему:\n",
    "$\n",
    "\\begin{cases}\n",
    "    \\tilde{x}P = \\tilde{x} \\\\\n",
    "    \\sum_{i=1}^n x_{i} = 1\n",
    "\\end{cases}\n",
    "$"
   ]
  },
  {
   "cell_type": "markdown",
   "id": "9ed8afb8",
   "metadata": {},
   "source": [
    "Найдем стационарное распределение вероятностей для марковской цепи: Одно из уравнений будет линейно зависимым от остальных,\n",
    "поэтому пожно исключить любое уравнение\n"
   ]
  },
  {
   "cell_type": "code",
   "execution_count": 1,
   "id": "e32b9bc3",
   "metadata": {},
   "outputs": [],
   "source": [
    "%run formulas.py"
   ]
  },
  {
   "cell_type": "code",
   "execution_count": 2,
   "id": "255d6a96",
   "metadata": {},
   "outputs": [
    {
     "name": "stdout",
     "output_type": "stream",
     "text": [
      "Q = [0.18691589 0.09345794 0.01869159 0.09345794 0.60747664]\n"
     ]
    }
   ],
   "source": [
    "P = np.array(\n",
    "    [\n",
    "        [0, 0.5, 0.1, 0, 0.4],\n",
    "        [0, 0, 0, 1, 0],\n",
    "        [0.5, 0, 0, 0, 0.5],\n",
    "        [0.6, 0, 0, 0, 0.4],\n",
    "        [0.2, 0, 0, 0, 0.8]\n",
    "    ]\n",
    ")\n",
    "\n",
    "Q = get_Q(P)\n",
    "\n",
    "print(f'Q = {Q}')"
   ]
  },
  {
   "cell_type": "code",
   "execution_count": 4,
   "id": "2c59d047",
   "metadata": {},
   "outputs": [
    {
     "name": "stdout",
     "output_type": "stream",
     "text": [
      "H_i = [1.360964047443681, -0.0, 1.0, 0.9709505944546686, 0.7219280948873623]\n",
      "H = 0.8023748884214846\n"
     ]
    }
   ],
   "source": [
    "P = [\n",
    "    [0, 0.5, 0.1, 0, 0.4],\n",
    "    [0, 0, 0, 1, 0],\n",
    "    [0.5, 0, 0, 0, 0.5],\n",
    "    [0.6, 0, 0, 0, 0.4],\n",
    "    [0.2, 0, 0, 0, 0.8],\n",
    "]\n",
    "\n",
    "h_i = Hi(P)\n",
    "print(f'H_i = {h_i}')\n",
    "\n",
    "h = H(h_i, Q)\n",
    "print(f'H = {h}')"
   ]
  }
 ],
 "metadata": {
  "kernelspec": {
   "display_name": "Python 3 (ipykernel)",
   "language": "python",
   "name": "python3"
  },
  "language_info": {
   "codemirror_mode": {
    "name": "ipython",
    "version": 3
   },
   "file_extension": ".py",
   "mimetype": "text/x-python",
   "name": "python",
   "nbconvert_exporter": "python",
   "pygments_lexer": "ipython3",
   "version": "3.9.7"
  }
 },
 "nbformat": 4,
 "nbformat_minor": 5
}
