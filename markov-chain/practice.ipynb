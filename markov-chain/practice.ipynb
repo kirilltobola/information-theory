{
 "cells": [
  {
   "cell_type": "markdown",
   "id": "30e80f39",
   "metadata": {},
   "source": [
    "## Задача 1\n",
    "\n",
    "Марковский источник задан таблицей переходов. Найти количество информации источника. В i-той строке и j-том столбце таблицы записана вероятность перехода из\n",
    "состояния i в состояние j а также символ генерируемый источником.\n",
    "\n",
    "$\n",
    "P = \n",
    "\\begin{pmatrix}\n",
    "    0 &0.5 &0.5 &0 \\\\\n",
    "    0 &0 &0.5 &0.5 \\\\\n",
    "    0.25 &0.25 &0.25 &0.25 \\\\\n",
    "    0.25 &0.25 &0.25 &0.25\n",
    "\\end{pmatrix}\n",
    "$\n",
    "\n",
    "Распределение вероятностей стационарного режима можно найти, решив систему:\n",
    "$\n",
    "\\begin{cases}\n",
    "    \\tilde{x}P = \\tilde{x} \\\\\n",
    "    \\sum_{i=1}^n x_{i} = 1\n",
    "\\end{cases}\n",
    "$"
   ]
  },
  {
   "cell_type": "code",
   "execution_count": 2,
   "id": "afbcfa94",
   "metadata": {},
   "outputs": [],
   "source": [
    "%run formulas"
   ]
  },
  {
   "cell_type": "code",
   "execution_count": 3,
   "id": "e42d8538",
   "metadata": {},
   "outputs": [
    {
     "name": "stdout",
     "output_type": "stream",
     "text": [
      "Q = [0.15384615 0.23076923 0.34615385 0.26923077]\n"
     ]
    }
   ],
   "source": [
    "P = [\n",
    "    [0, 0.5, 0.5, 0],\n",
    "    [0, 0, 0.5, 0.5],\n",
    "    [0.25, 0.25, 0.25, 0.25],\n",
    "    [0.25, 0.25, 0.25, 0.25]\n",
    "]\n",
    "\n",
    "Q = get_Q(P)\n",
    "print(f'Q = {Q}')"
   ]
  },
  {
   "cell_type": "code",
   "execution_count": 4,
   "id": "e966f667",
   "metadata": {},
   "outputs": [
    {
     "name": "stdout",
     "output_type": "stream",
     "text": [
      "H_i = [1.0, 1.0, 2.0, 2.0]\n",
      "H = 1.6153846153846154\n"
     ]
    }
   ],
   "source": [
    "h_i = Hi(P)\n",
    "print(f'H_i = {h_i}')\n",
    "\n",
    "h = H(h_i, Q)\n",
    "print(f'H = {h}')"
   ]
  },
  {
   "cell_type": "markdown",
   "id": "d85b111e",
   "metadata": {},
   "source": [
    "## Задача 2\n",
    "\n",
    "У экспериментаторов находится 4 шара: 2 черных, 1 белый и 1 красный. В\n",
    "каждый момент времени в коробке находятся 3 шара и один шар в руке у ассистента.\n",
    "Эксперементатор извлекает один шар из коробки, а в это время ассистент записывает цвет\n",
    "шара, который находится у него в руках. Цвета кодируются нулем, единицей и двойкой.\n",
    "Далее ассистент возвращает свой шар в коробку и берет шар у эксперементатора, после чего\n",
    "процесс повторяется. В результате получается некоторая символьная последовательность.\n",
    "Найдите количество информации источника."
   ]
  },
  {
   "cell_type": "markdown",
   "id": "df171eef",
   "metadata": {},
   "source": [
    "![graph](practice_graph.png)"
   ]
  },
  {
   "cell_type": "markdown",
   "id": "4eb30997",
   "metadata": {},
   "source": [
    "$\n",
    "P = \n",
    "\\begin{pmatrix}\n",
    "    1/3 &1/3 &1/3 \\\\\n",
    "    2/3 &0 &1/3 \\\\\n",
    "    2/3 &1/3 &0 \\\\\n",
    "\\end{pmatrix}\n",
    "$"
   ]
  },
  {
   "cell_type": "code",
   "execution_count": 6,
   "id": "071b23bd",
   "metadata": {},
   "outputs": [
    {
     "name": "stdout",
     "output_type": "stream",
     "text": [
      "Q = [0.5  0.25 0.25]\n"
     ]
    }
   ],
   "source": [
    "P = [\n",
    "    [1/3, 1/3, 1/3],\n",
    "    [2/3, 0, 1/3],\n",
    "    [2/3, 1/3, 0]\n",
    "]\n",
    "\n",
    "Q = get_Q(P)\n",
    "print(f'Q = {Q}')"
   ]
  },
  {
   "cell_type": "code",
   "execution_count": 7,
   "id": "bf72ef44",
   "metadata": {},
   "outputs": [
    {
     "name": "stdout",
     "output_type": "stream",
     "text": [
      "H_i = [1.584962500721156, 0.9182958340544896, 0.9182958340544896]\n",
      "H = 1.251629167387823\n"
     ]
    }
   ],
   "source": [
    "h_i = Hi(P)\n",
    "print(f'H_i = {h_i}')\n",
    "\n",
    "h = H(h_i, Q)\n",
    "print(f'H = {h}')"
   ]
  }
 ],
 "metadata": {
  "kernelspec": {
   "display_name": "Python 3 (ipykernel)",
   "language": "python",
   "name": "python3"
  },
  "language_info": {
   "codemirror_mode": {
    "name": "ipython",
    "version": 3
   },
   "file_extension": ".py",
   "mimetype": "text/x-python",
   "name": "python",
   "nbconvert_exporter": "python",
   "pygments_lexer": "ipython3",
   "version": "3.9.7"
  }
 },
 "nbformat": 4,
 "nbformat_minor": 5
}
