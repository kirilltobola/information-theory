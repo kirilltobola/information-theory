{
 "cells": [
  {
   "cell_type": "markdown",
   "id": "e141ea8d",
   "metadata": {},
   "source": [
    "## Задание 1.\n",
    "Алфавит языка содержит 3 символа {a, b, c}. Слова в языке имеют произвольную длину, но не содержат подслов: cc, baa, bbb, ca, abc, acb.\n",
    "Все допустимые переходы из одного состояния равновероятны. Найдите количество информации источника."
   ]
  },
  {
   "cell_type": "markdown",
   "id": "8445f06b",
   "metadata": {},
   "source": [
    "![graph](graph.png)"
   ]
  },
  {
   "cell_type": "code",
   "execution_count": 2,
   "id": "e9bb4d23",
   "metadata": {},
   "outputs": [],
   "source": [
    "%run formulas.py"
   ]
  },
  {
   "cell_type": "code",
   "execution_count": 8,
   "id": "ccfa17ce",
   "metadata": {},
   "outputs": [
    {
     "name": "stdout",
     "output_type": "stream",
     "text": [
      "Q = [0.18181818 0.27272727 0.27272727 0.13636364 0.13636364]\n"
     ]
    }
   ],
   "source": [
    "P = [\n",
    "    [0, 0, 1/2, 0, 1/2],\n",
    "    [1/2, 0, 1/2, 0, 0],\n",
    "    [0, 1, 0, 0, 0],\n",
    "    [1/3, 0, 1/3, 0, 1/3],\n",
    "    [0, 0, 0, 1, 0]\n",
    "]\n",
    "\n",
    "Q = get_Q(P)\n",
    "print(f'Q = {Q}')"
   ]
  },
  {
   "cell_type": "code",
   "execution_count": 9,
   "id": "e122a3fa",
   "metadata": {},
   "outputs": [
    {
     "name": "stdout",
     "output_type": "stream",
     "text": [
      "H_i = [1.0, 1.0, -0.0, 1.584962500721156, -0.0]\n",
      "H = 0.670676704643794\n"
     ]
    }
   ],
   "source": [
    "h_i = Hi(P)\n",
    "print(f'H_i = {h_i}')\n",
    "\n",
    "h = H(h_i, Q)\n",
    "print(f'H = {h}')"
   ]
  },
  {
   "cell_type": "code",
   "execution_count": 23,
   "id": "0d2a7428",
   "metadata": {},
   "outputs": [
    {
     "name": "stdout",
     "output_type": "stream",
     "text": [
      "1.txt = 1.5005901419058245\n",
      "2.txt = 1.4981029684397675\n",
      "3.txt = 1.4951625379071307\n",
      "4.txt = 1.500469572851813\n",
      "5.txt = 1.5006783157154728\n"
     ]
    }
   ],
   "source": [
    "alphabet = '012'\n",
    "word: str = '000000000'\n",
    "p = dict()\n",
    "q = dict()\n",
    "\n",
    "\n",
    "for i in range(1, 6):\n",
    "    with open(f'{i}.txt') as f:\n",
    "        string = f.read()\n",
    "        p, q = init(string, alphabet, len(word), p, q)\n",
    "\n",
    "        res = 0\n",
    "        for symbol in string:\n",
    "            if word in q:\n",
    "                p[word][symbol] += 1\n",
    "                q[word] += 1\n",
    "            else:\n",
    "                p[word] = dict()\n",
    "                for sym in alphabet:\n",
    "                    p[word][sym] = 1\n",
    "                q[word] = len(alphabet)\n",
    "\n",
    "            h = 0\n",
    "            for sym in alphabet:\n",
    "                prob = p[word][sym] / q[word]\n",
    "                h -= prob * math.log2(prob)\n",
    "            res += h\n",
    "#             prob = p[word][symbol] / q[word]\n",
    "#             res -= prob * math.log2(prob)\n",
    "\n",
    "            \n",
    "            word = word[1:len(word)]\n",
    "            word += symbol\n",
    "        print(f'{i}.txt = {res/len(string)}')"
   ]
  }
 ],
 "metadata": {
  "kernelspec": {
   "display_name": "Python 3 (ipykernel)",
   "language": "python",
   "name": "python3"
  },
  "language_info": {
   "codemirror_mode": {
    "name": "ipython",
    "version": 3
   },
   "file_extension": ".py",
   "mimetype": "text/x-python",
   "name": "python",
   "nbconvert_exporter": "python",
   "pygments_lexer": "ipython3",
   "version": "3.9.7"
  }
 },
 "nbformat": 4,
 "nbformat_minor": 5
}
